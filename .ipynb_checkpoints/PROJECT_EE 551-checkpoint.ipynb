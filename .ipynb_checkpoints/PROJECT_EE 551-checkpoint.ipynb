{
 "cells": [
  {
   "cell_type": "markdown",
   "id": "f7151311",
   "metadata": {},
   "source": [
    "## Tic-Tac-Toe"
   ]
  },
  {
   "cell_type": "code",
   "execution_count": 1,
   "id": "036d4fed",
   "metadata": {},
   "outputs": [],
   "source": [
    "import random"
   ]
  },
  {
   "cell_type": "code",
   "execution_count": 2,
   "id": "51019e72",
   "metadata": {},
   "outputs": [],
   "source": [
    "def print_board(board):\n",
    "    print(board[0][0] + '|' + board[0][1] + '|' + board[0][2])\n",
    "    print('-+-+-') \n",
    "    print(board[1][0] + '|' + board[1][1] + '|' + board[1][2])\n",
    "    print('-+-+-')\n",
    "    print(board[2][0] + '|' + board[2][1] + '|' + board[2][2])"
   ]
  },
  {
   "cell_type": "code",
   "execution_count": 3,
   "id": "aeaa3f3f",
   "metadata": {},
   "outputs": [],
   "source": [
    "board = [[' ',' ',' '],[' ',' ',' '],[' ',' ',' ']]"
   ]
  },
  {
   "cell_type": "code",
   "execution_count": 4,
   "id": "4b6ee0b0",
   "metadata": {},
   "outputs": [
    {
     "name": "stdout",
     "output_type": "stream",
     "text": [
      " | | \n",
      "-+-+-\n",
      " | | \n",
      "-+-+-\n",
      " | | \n"
     ]
    }
   ],
   "source": [
    "print_board(board)"
   ]
  },
  {
   "cell_type": "markdown",
   "id": "bbf2b590",
   "metadata": {},
   "source": [
    "print_board(board) function is used to print the 3x3 matrix.\n",
    "\n",
    "We will use this function in each iteration i.e., after inserting 'X' or 'O' into the matrix we will print the entire 3x3 matrix to show at which position the player has inserted on his turn.\n",
    "\n",
    "The print('-+-+-') is used to visually differentiate between each row."
   ]
  },
  {
   "cell_type": "code",
   "execution_count": 5,
   "id": "6de590bc",
   "metadata": {},
   "outputs": [],
   "source": [
    "def is_board_full(board):\n",
    "    for row in range(3):\n",
    "        for col in range(3):\n",
    "            if board[row][col] == ' ':\n",
    "                return False\n",
    "    return True"
   ]
  },
  {
   "cell_type": "markdown",
   "id": "51b858dd",
   "metadata": {},
   "source": [
    "is_board_full(board) function is used to check whether all the 9 elements are filled up or not.\n",
    "\n",
    "After an element is inserted we check whether the matrix is completely filled up or not to declare that game is 'draw' if it is filled up."
   ]
  },
  {
   "cell_type": "code",
   "execution_count": 6,
   "id": "e7bb87b6",
   "metadata": {},
   "outputs": [],
   "source": [
    "def is_winner(board, player):\n",
    "    # check rows\n",
    "    for row in range(3):\n",
    "        if board[row][0] == board[row][1] == board[row][2] == player:\n",
    "            return True\n",
    "    # check columns\n",
    "    for col in range(3):\n",
    "        if board[0][col] == board[1][col] == board[2][col] == player:\n",
    "            return True\n",
    "    # check diagonals\n",
    "    if board[0][0] == board[1][1] == board[2][2] == player or board[0][2] == board[1][1] == board[2][0] == player:\n",
    "        return True\n",
    "    return False"
   ]
  },
  {
   "cell_type": "markdown",
   "id": "f31e5f32",
   "metadata": {},
   "source": [
    "is_winner(board, player) function is used to predict the winner by checking any row or column or diagonals of a 3x3 matrix is filled with either 'X' or 'O' completely.\n",
    "\n",
    "After a player inserts his element on his turn, this function will go through each row, column and diagonally to check if it is filled with three same elements.\n",
    "\n",
    "If any of the row or column or a diagonal is filled with the same element, then we declare that player wins."
   ]
  },
  {
   "cell_type": "code",
   "execution_count": 7,
   "id": "17887ef5",
   "metadata": {},
   "outputs": [],
   "source": [
    "def play():\n",
    "    board = [[' ', ' ', ' '], [' ', ' ', ' '], [' ', ' ', ' ']]\n",
    "    player = random.choice(['X', 'O'])\n",
    "    print(\"Current player: \" + player)\n",
    "    while True:\n",
    "        print_board(board)\n",
    "        row = int(input(\"Enter row number between 0-2: \"))  \n",
    "        col = int(input(\"Enter column number between 0-2: \"))\n",
    "        if board[row][col] != ' ':\n",
    "            print(\"Illegal move, try again.\")\n",
    "            continue\n",
    "        board[row][col] = player\n",
    "        if is_winner(board, player):\n",
    "            print_board(board)\n",
    "            print(\"Congratulations! Player \" + player + \" wins!\")\n",
    "            break\n",
    "        if is_board_full(board):\n",
    "            print_board(board)\n",
    "            print(\"It's a draw!\")\n",
    "            break\n",
    "        player = 'X' if player == 'O' else 'O'\n",
    "        print('')\n",
    "        print(\"Current player: \" + player)\n",
    "    print('Do you want to play another game?')\n",
    "    if input() == 'yes':\n",
    "        play()\n",
    "    else:\n",
    "        print('GAME OVER!')"
   ]
  },
  {
   "cell_type": "markdown",
   "id": "416e5f5e",
   "metadata": {},
   "source": [
    "The play() function is used to enter elements into the matrix by taking inputs from the players. The program executes as follows:\n",
    "\n",
    "--> We intialize an empty 3x3 matrix 'board' with all the elements empty.\n",
    "\n",
    "--> First it choses which player plays first with the help of random function so that the program is not biased towards any player.\n",
    "\n",
    "--> After chosing the player, it prints who is playing this turn.\n",
    "\n",
    "--> The while loop is used to iterate the game until it gets draw or a player wins.\n",
    "\n",
    "--> We first print the empty board and asks the current player to enter row and column number in which he wants to inserts his symbol.\n",
    "\n",
    "--> After selecting the position, we then check if the position is already taken and returns as 'illegal move' if selected. If the position is empty we assign the symbol to that position.\n",
    "\n",
    "--> We then check if any of the entire row or column or diagonals has same value to predict the winner. If that is the case, we declare the current player as winner and stops the game.\n",
    "\n",
    "--> If anyone doesn't win then we check if the board is full using is_board_full() function. If it is full, we then print that the game is a draw and stop the game.\n",
    "\n",
    "--> If the board is not full we then change the player from the current one and go through the loop again to continue the game."
   ]
  },
  {
   "cell_type": "code",
   "execution_count": 8,
   "id": "d2215df4",
   "metadata": {},
   "outputs": [
    {
     "name": "stdout",
     "output_type": "stream",
     "text": [
      "Current player: O\n",
      " | | \n",
      "-+-+-\n",
      " | | \n",
      "-+-+-\n",
      " | | \n",
      "Enter row number between 0-2: 1\n",
      "Enter column number between 0-2: 1\n",
      "\n",
      "Current player: X\n",
      " | | \n",
      "-+-+-\n",
      " |O| \n",
      "-+-+-\n",
      " | | \n",
      "Enter row number between 0-2: 0\n",
      "Enter column number between 0-2: 2\n",
      "\n",
      "Current player: O\n",
      " | |X\n",
      "-+-+-\n",
      " |O| \n",
      "-+-+-\n",
      " | | \n",
      "Enter row number between 0-2: 1\n",
      "Enter column number between 0-2: 2\n",
      "\n",
      "Current player: X\n",
      " | |X\n",
      "-+-+-\n",
      " |O|O\n",
      "-+-+-\n",
      " | | \n",
      "Enter row number between 0-2: 1\n",
      "Enter column number between 0-2: 0\n",
      "\n",
      "Current player: O\n",
      " | |X\n",
      "-+-+-\n",
      "X|O|O\n",
      "-+-+-\n",
      " | | \n",
      "Enter row number between 0-2: 2\n",
      "Enter column number between 0-2: 2\n",
      "\n",
      "Current player: X\n",
      " | |X\n",
      "-+-+-\n",
      "X|O|O\n",
      "-+-+-\n",
      " | |O\n",
      "Enter row number between 0-2: 0\n",
      "Enter column number between 0-2: 0\n",
      "\n",
      "Current player: O\n",
      "X| |X\n",
      "-+-+-\n",
      "X|O|O\n",
      "-+-+-\n",
      " | |O\n",
      "Enter row number between 0-2: 0\n",
      "Enter column number between 0-2: 1\n",
      "\n",
      "Current player: X\n",
      "X|O|X\n",
      "-+-+-\n",
      "X|O|O\n",
      "-+-+-\n",
      " | |O\n",
      "Enter row number between 0-2: 2\n",
      "Enter column number between 0-2: 0\n",
      "X|O|X\n",
      "-+-+-\n",
      "X|O|O\n",
      "-+-+-\n",
      "X| |O\n",
      "Congratulations! Player X wins!\n",
      "Do you want to play another game?\n",
      "no\n",
      "GAME OVER!\n"
     ]
    }
   ],
   "source": [
    "play()"
   ]
  },
  {
   "cell_type": "code",
   "execution_count": null,
   "id": "b2384e9e",
   "metadata": {},
   "outputs": [],
   "source": []
  }
 ],
 "metadata": {
  "kernelspec": {
   "display_name": "Python 3 (ipykernel)",
   "language": "python",
   "name": "python3"
  },
  "language_info": {
   "codemirror_mode": {
    "name": "ipython",
    "version": 3
   },
   "file_extension": ".py",
   "mimetype": "text/x-python",
   "name": "python",
   "nbconvert_exporter": "python",
   "pygments_lexer": "ipython3",
   "version": "3.9.13"
  }
 },
 "nbformat": 4,
 "nbformat_minor": 5
}
